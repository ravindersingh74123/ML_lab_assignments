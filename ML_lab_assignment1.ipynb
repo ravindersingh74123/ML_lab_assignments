{
  "nbformat": 4,
  "nbformat_minor": 0,
  "metadata": {
    "colab": {
      "provenance": []
    },
    "kernelspec": {
      "name": "python3",
      "display_name": "Python 3"
    },
    "language_info": {
      "name": "python"
    }
  },
  "cells": [
    {
      "cell_type": "markdown",
      "source": [
        "# ***Q1: Questions on Basic NumPy ***"
      ],
      "metadata": {
        "id": "qQNt1nvjZQ2F"
      }
    },
    {
      "cell_type": "markdown",
      "source": [
        "(a) Reverse the NumPy array: arr = np.array([1, 2, 3, 6, 4, 5])"
      ],
      "metadata": {
        "id": "RHRMw8VUZWuZ"
      }
    },
    {
      "cell_type": "code",
      "execution_count": 3,
      "metadata": {
        "colab": {
          "base_uri": "https://localhost:8080/"
        },
        "id": "-ujptSuDXvqJ",
        "outputId": "182f4649-7cdd-421b-da85-388fd615daa7"
      },
      "outputs": [
        {
          "output_type": "stream",
          "name": "stdout",
          "text": [
            "[5 4 6 3 2 1]\n"
          ]
        }
      ],
      "source": [
        "import numpy as np\n",
        "arr = np.array([1, 2, 3, 6, 4, 5])\n",
        "#arr[::-1]\n",
        "print(np.flip(arr))"
      ]
    },
    {
      "cell_type": "markdown",
      "source": [
        "(b) Flatten the NumPy arr: array1 = np.array([[1, 2, 3], [2, 4, 5], [1, 2, 3]]) using any two\n",
        "NumPy in-built methods"
      ],
      "metadata": {
        "id": "1JfF79pKZzja"
      }
    },
    {
      "cell_type": "code",
      "source": [
        "\n",
        "array1 = np.array([[1, 2, 3], [2, 4, 5], [1, 2, 3]])\n",
        "print(array1.flatten())\n",
        "print(array1.ravel())"
      ],
      "metadata": {
        "colab": {
          "base_uri": "https://localhost:8080/"
        },
        "id": "ZBH3uplzZoJC",
        "outputId": "e86608fd-8eab-4252-b7d3-8fdc0fb9304e"
      },
      "execution_count": 5,
      "outputs": [
        {
          "output_type": "stream",
          "name": "stdout",
          "text": [
            "[1 2 3 2 4 5 1 2 3]\n",
            "[1 2 3 2 4 5 1 2 3]\n"
          ]
        }
      ]
    },
    {
      "cell_type": "markdown",
      "source": [
        "(c) Compare the following numpy arrays:\n",
        "\n",
        "arr1 = np.array([[1, 2], [3, 4]]) arr2 = np.array([[1, 2], [3, 4]])"
      ],
      "metadata": {
        "id": "m35CxidUaLn-"
      }
    },
    {
      "cell_type": "code",
      "source": [
        "arr1 = np.array([[1, 2], [3, 4]])\n",
        "arr2 = np.array([[1, 2], [3, 1]])\n",
        "print(np.array_equal(arr1,arr2))"
      ],
      "metadata": {
        "colab": {
          "base_uri": "https://localhost:8080/"
        },
        "id": "vk4aSMyMaCma",
        "outputId": "d3bf35be-a039-4411-cc8f-45312337ca9a"
      },
      "execution_count": 7,
      "outputs": [
        {
          "output_type": "stream",
          "name": "stdout",
          "text": [
            "False\n"
          ]
        }
      ]
    },
    {
      "cell_type": "markdown",
      "source": [
        "(d) Find the most frequent value and their indice(s) in the following arrays:\n",
        "\n",
        "x = np.array([1,2,3,4,5,1,2,1,1,1])\n",
        "y = np.array([1, 1, 1, 2, 3, 4, 2, 4, 3, 3, ])"
      ],
      "metadata": {
        "id": "rexjK3l2ajvB"
      }
    },
    {
      "cell_type": "code",
      "source": [
        "x=np.array([1,2,3,4,5,1,2,1,1,1])\n",
        "y=np.array([1, 1, 1, 2, 3, 4, 2, 4, 3, 3, ])\n",
        "val1=np.bincount(x).argmax()\n",
        "print(val1)\n",
        "indices=np.where(x==val1)\n",
        "print(indices)\n",
        "\n",
        "val2=np.bincount(y).argmax()\n",
        "print(val2)\n",
        "indices1=np.where(y==val2)\n",
        "print(indices1)"
      ],
      "metadata": {
        "colab": {
          "base_uri": "https://localhost:8080/"
        },
        "id": "r6H_dD2vaf8h",
        "outputId": "340cb2e8-2c01-4cc0-d58c-715687e48ae5"
      },
      "execution_count": 12,
      "outputs": [
        {
          "output_type": "stream",
          "name": "stdout",
          "text": [
            "1\n",
            "(array([0, 5, 7, 8, 9]),)\n",
            "1\n",
            "(array([0, 1, 2]),)\n"
          ]
        }
      ]
    },
    {
      "cell_type": "markdown",
      "source": [
        "(e) For the array gfg = np.matrix('[4, 1, 9; 12, 3, 1; 4, 5, 6]'), find Sum of all elements\n",
        "\n",
        "i)Sum of all elements\n",
        "\n",
        "ii)Sum of all elements row-wise\n",
        "\n",
        "\n",
        "iii)Sum of all elements column-wise"
      ],
      "metadata": {
        "id": "eScr9BZkcceM"
      }
    },
    {
      "cell_type": "code",
      "source": [
        "get_config=np.get_printoptions()\n",
        "gfg = np.matrix('[4, 1, 9; 12, 3, 1; 4, 5, 6]')\n",
        "\n",
        "#i\n",
        "print(np.sum(gfg))\n",
        "print(\"\\n\")\n",
        "#ii\n",
        "print(np.sum(gfg,axis=1))\n",
        "print(\"\\n\")\n",
        "#iii\n",
        "print(np.sum(gfg,axis=0))\n"
      ],
      "metadata": {
        "colab": {
          "base_uri": "https://localhost:8080/"
        },
        "id": "dJQzMQXjbYCd",
        "outputId": "9993844e-2851-4401-c1dc-eed605a3f500"
      },
      "execution_count": 19,
      "outputs": [
        {
          "output_type": "stream",
          "name": "stdout",
          "text": [
            "45\n",
            "\n",
            "\n",
            "[[14]\n",
            " [16]\n",
            " [15]]\n",
            "\n",
            "\n",
            "[[20  9 16]]\n"
          ]
        }
      ]
    },
    {
      "cell_type": "markdown",
      "source": [
        "(f) For the matrix: n_array = np.array([[55, 25, 15],[30, 44, 2],[11, 45, 77]]), find\n",
        "\n",
        "i) Sum of diagonal elements\n",
        "\n",
        "ii) Eigen values of matrix\n",
        "\n",
        "iii)Eigen vectors of matrix\n",
        "\n",
        "iv) Inverse of matrix\n",
        "\n",
        "v) Determinant of matrix"
      ],
      "metadata": {
        "id": "aUJSHmnoeQvH"
      }
    },
    {
      "cell_type": "code",
      "source": [
        "n_array=np.array([[55, 25, 15],[30, 44, 2],[11, 45, 77]])\n",
        "#i\n",
        "print(n_array.diagonal().sum())\n",
        "print('\\n')\n",
        "\n",
        "#ii\n",
        "print(np.linalg.eigvals(n_array))\n",
        "print('\\n')\n",
        "\n",
        "#iii\n",
        "print(np.linalg.eig(n_array))\n",
        "print('\\n')\n",
        "\n",
        "#iv\n",
        "print(np.linalg.inv(n_array))\n",
        "print('\\n')\n",
        "\n",
        "#v\n",
        "print(np.linalg.det(n_array))"
      ],
      "metadata": {
        "colab": {
          "base_uri": "https://localhost:8080/"
        },
        "id": "HTRtSW-Rdm__",
        "outputId": "8fcdbf40-e8a4-4db4-b575-8511f44b10e4"
      },
      "execution_count": 25,
      "outputs": [
        {
          "output_type": "stream",
          "name": "stdout",
          "text": [
            "176\n",
            "\n",
            "\n",
            "[98.16835147 28.097044   49.73460452]\n",
            "\n",
            "\n",
            "EigResult(eigenvalues=array([98.16835147, 28.097044  , 49.73460452]), eigenvectors=array([[ 0.4574917 ,  0.34637121, -0.15017693],\n",
            "       [ 0.28447814, -0.72784061, -0.4852124 ],\n",
            "       [ 0.84248058,  0.59184038,  0.8614034 ]]))\n",
            "\n",
            "\n",
            "[[ 0.02404141 -0.00911212 -0.00444671]\n",
            " [-0.01667882  0.02966905  0.0024785 ]\n",
            " [ 0.00631287 -0.01603732  0.01217379]]\n",
            "\n",
            "\n",
            "137180.0000000001\n"
          ]
        }
      ]
    },
    {
      "cell_type": "markdown",
      "source": [
        "\n",
        "(g) Multiply the following matrices and also find covariance between matrices using NumPy:\n",
        "\n",
        "i)\n",
        "\n",
        "p = [[1, 2], [2, 3]]   \n",
        "\n",
        "q = [[4, 5], [6, 7]]\n",
        "\n",
        "ii)\n",
        "\n",
        "p = [[1, 2], [2, 3], [4, 5]]\n",
        "\n",
        "q = [[4, 5, 1], [6, 7, 2]]"
      ],
      "metadata": {
        "id": "tMpUcHPrfpQK"
      }
    },
    {
      "cell_type": "code",
      "source": [
        "#i\n",
        "p = np.array([[1, 2], [2, 3]])\n",
        "q = np.array([[4, 5], [6, 7]])\n",
        "print(np.dot(p,q))\n",
        "print('\\n')\n",
        "print(np.cov(p.flatten(),q.flatten()))"
      ],
      "metadata": {
        "colab": {
          "base_uri": "https://localhost:8080/"
        },
        "id": "xrEKNR_yfo2X",
        "outputId": "0c9a6678-508f-4233-f243-92f84ed1076e"
      },
      "execution_count": 29,
      "outputs": [
        {
          "output_type": "stream",
          "name": "stdout",
          "text": [
            "[[16 19]\n",
            " [26 31]]\n",
            "\n",
            "\n",
            "[[0.66666667 1.        ]\n",
            " [1.         1.66666667]]\n"
          ]
        }
      ]
    },
    {
      "cell_type": "code",
      "source": [
        "#ii\n",
        "p = np.array([[1, 2], [2, 3], [4, 5]])\n",
        "q = np.array([[4, 5, 1], [6, 7, 2]])\n",
        "print(np.dot(p,q))\n",
        "print('\\n')\n",
        "print(np.cov(p.flatten(),q.flatten()))\n"
      ],
      "metadata": {
        "colab": {
          "base_uri": "https://localhost:8080/"
        },
        "id": "HM7eTsOIfDUP",
        "outputId": "173caa36-1c86-4cac-8aae-fc13bb84574c"
      },
      "execution_count": 30,
      "outputs": [
        {
          "output_type": "stream",
          "name": "stdout",
          "text": [
            "[[16 19  5]\n",
            " [26 31  8]\n",
            " [46 55 14]]\n",
            "\n",
            "\n",
            "[[2.16666667 0.23333333]\n",
            " [0.23333333 5.36666667]]\n"
          ]
        }
      ]
    },
    {
      "cell_type": "markdown",
      "source": [
        "For the matrices: x = np.array([[2, 3, 4], [3, 2, 9]]); y = np.array([[1, 5, 0], [5, 10, 3]]),\n",
        "find inner, outer and cartesian product"
      ],
      "metadata": {
        "id": "uiXpH8ObhlVp"
      }
    },
    {
      "cell_type": "code",
      "source": [
        "x=np.array([[2, 3, 4], [3, 2, 9]])\n",
        "y=np.array([[1, 5, 0], [5, 10, 3]])\n",
        "print(np.inner(x,y))\n",
        "print('\\n')\n",
        "print(np.outer(x,y))\n",
        "print('\\n')\n",
        "print(np.cross(x,y))"
      ],
      "metadata": {
        "colab": {
          "base_uri": "https://localhost:8080/"
        },
        "id": "TeLmI5INhg1p",
        "outputId": "266a433d-6b2e-4770-bafc-09b7f58bafe4"
      },
      "execution_count": 31,
      "outputs": [
        {
          "output_type": "stream",
          "name": "stdout",
          "text": [
            "[[17 52]\n",
            " [13 62]]\n",
            "\n",
            "\n",
            "[[ 2 10  0 10 20  6]\n",
            " [ 3 15  0 15 30  9]\n",
            " [ 4 20  0 20 40 12]\n",
            " [ 3 15  0 15 30  9]\n",
            " [ 2 10  0 10 20  6]\n",
            " [ 9 45  0 45 90 27]]\n",
            "\n",
            "\n",
            "[[-20   4   7]\n",
            " [-84  36  20]]\n"
          ]
        }
      ]
    },
    {
      "cell_type": "markdown",
      "source": [],
      "metadata": {
        "id": "Zy0i2jqfh46F"
      }
    },
    {
      "cell_type": "markdown",
      "source": [
        "\n",
        "# **Q2: Based on NumPy Mathematics and Statistics**\n",
        "\n",
        "\n"
      ],
      "metadata": {
        "id": "-PBxZ5hjh4jt"
      }
    },
    {
      "cell_type": "markdown",
      "source": [
        "(a)\n",
        "For the array: array = np.array([[1, -2, 3],[-4, 5, -6]])\n",
        "\n",
        "i) Find element-wise absolute value\n",
        "\n",
        "ii)Find the 25th, 50th, and 75th percentile of flattened array, for each column, for each row.\n",
        "\n",
        "\n",
        "iii)Mean, Median and Standard Deviation of flattened array, of each column, and each row"
      ],
      "metadata": {
        "id": "Jow6BI44h8XE"
      }
    },
    {
      "cell_type": "code",
      "source": [
        "array = np.array([[1, -2, 3],[-4, 5, -6]])\n",
        "#i\n",
        "print(np.absolute(array))\n",
        "print('\\n')\n",
        "\n"
      ],
      "metadata": {
        "colab": {
          "base_uri": "https://localhost:8080/"
        },
        "id": "Gz26qUPLiId7",
        "outputId": "ed87fd43-523a-46b8-df35-d26123b9b660"
      },
      "execution_count": 32,
      "outputs": [
        {
          "output_type": "stream",
          "name": "stdout",
          "text": [
            "[[1 2 3]\n",
            " [4 5 6]]\n",
            "\n",
            "\n"
          ]
        }
      ]
    },
    {
      "cell_type": "code",
      "source": [
        "\n",
        "\n",
        "# ii)Find the 25th, 50th, and 75th percentile of flattened array, for each column, for each row.\n",
        "print(\"25th percentile of flattened array: \", np.percentile(array, 25))\n",
        "print(\"50th percentile of flattened array: \", np.percentile(array, 50))\n",
        "print(\"75th percentile of flattened array: \", np.percentile(array, 75))\n",
        "print('\\n')\n",
        "print(\"25th percentile of 1st column: \", np.percentile(array, 25, axis=0))\n",
        "print(\"50th percentile of 2nd column: \", np.percentile(array, 50, axis=0))\n",
        "print(\"75th percentile of 3rd  column: \", np.percentile(array, 75, axis=0))\n",
        "print('\\n')\n",
        "print(\"25th percentile of 1st row: \", np.percentile(array, 25, axis=1))\n",
        "print(\"50th percentile of 2nd row: \", np.percentile(array, 50, axis=1))\n",
        "print(\"75th percentile of 3rd row: \", np.percentile(array, 75, axis=1))\n"
      ],
      "metadata": {
        "colab": {
          "base_uri": "https://localhost:8080/"
        },
        "id": "xh6ptVN4lxY5",
        "outputId": "776fee7a-ff4e-4077-d18f-e1a680751255"
      },
      "execution_count": 35,
      "outputs": [
        {
          "output_type": "stream",
          "name": "stdout",
          "text": [
            "25th percentile of flattened array:  -3.5\n",
            "50th percentile of flattened array:  -0.5\n",
            "75th percentile of flattened array:  2.5\n",
            "\n",
            "\n",
            "25th percentile of 1st column:  [-2.75 -0.25 -3.75]\n",
            "50th percentile of 2nd column:  [-1.5  1.5 -1.5]\n",
            "75th percentile of 3rd  column:  [-0.25  3.25  0.75]\n",
            "\n",
            "\n",
            "25th percentile of 1st row:  [-0.5 -5. ]\n",
            "50th percentile of 2nd row:  [ 1. -4.]\n",
            "75th percentile of 3rd row:  [2.  0.5]\n"
          ]
        }
      ]
    },
    {
      "cell_type": "code",
      "source": [
        "#Mean, Median and Standard Deviation of flattened array, of each column, and each row\n",
        "\n",
        "print(\"Mean of flattened array: \", np.mean(array))\n",
        "print(\"Median of flattened array: \", np.median(array))\n",
        "print(\"Standard Deviation of flattened array: \", np.std(array))\n",
        "print('\\n')\n",
        "print(\"Mean of 1st column: \", np.mean(array,axis=0))\n",
        "print(\"Median of 2nd column: \", np.median(array,axis=0))\n",
        "print(\"Standard Deviation of 3rd  column: \", np.std(array, axis=0))\n",
        "print('\\n')\n",
        "print(\"Mean of 1st row: \", np.mean(array, axis=1))\n",
        "print(\"Median of 2nd row: \", np.median(array,axis=1))\n",
        "print(\"Standard Deviation of 3rd row: \", np.std(array,axis=1))\n",
        "\n"
      ],
      "metadata": {
        "colab": {
          "base_uri": "https://localhost:8080/"
        },
        "id": "OMaQX2ixoS2W",
        "outputId": "c2a517ce-2e25-4324-99a0-6544d18b5582"
      },
      "execution_count": 37,
      "outputs": [
        {
          "output_type": "stream",
          "name": "stdout",
          "text": [
            "Mean of flattened array:  -0.5\n",
            "Median of flattened array:  -0.5\n",
            "Standard Deviation of flattened array:  3.8622100754188224\n",
            "\n",
            "\n",
            "Mean of 1st column:  [-1.5  1.5 -1.5]\n",
            "Median of 2nd column:  [-1.5  1.5 -1.5]\n",
            "Standard Deviation of 3rd  column:  [2.5 3.5 4.5]\n",
            "\n",
            "\n",
            "Mean of 1st row:  [ 0.66666667 -1.66666667]\n",
            "Median of 2nd row:  [ 1. -4.]\n",
            "Standard Deviation of 3rd row:  [2.05480467 4.78423336]\n"
          ]
        }
      ]
    },
    {
      "cell_type": "markdown",
      "source": [
        "(b) For the array: a = np.array([-1.8, -1.6, -0.5, 0.5,1.6, 1.8, 3.0]). Find floor, ceiling\n",
        "and truncated value, rounded values"
      ],
      "metadata": {
        "id": "jitIcBd5qryW"
      }
    },
    {
      "cell_type": "code",
      "source": [
        "a=np.array([-1.8, -1.6, -0.5, 0.5,1.6, 1.8, 3.0])\n",
        "print(np.floor(a))\n",
        "print('\\n')\n",
        "print(np.ceil(a))\n",
        "print('\\n')\n",
        "print(np.trunc(a))\n",
        "print('\\n')\n",
        "print(np.round(a))"
      ],
      "metadata": {
        "colab": {
          "base_uri": "https://localhost:8080/"
        },
        "id": "g53Ubvk2qOR8",
        "outputId": "cdf831e7-87f5-4997-fe2b-c4753cd102c9"
      },
      "execution_count": 38,
      "outputs": [
        {
          "output_type": "stream",
          "name": "stdout",
          "text": [
            "[-2. -2. -1.  0.  1.  1.  3.]\n",
            "\n",
            "\n",
            "[-1. -1. -0.  1.  2.  2.  3.]\n",
            "\n",
            "\n",
            "[-1. -1. -0.  0.  1.  1.  3.]\n",
            "\n",
            "\n",
            "[-2. -2. -0.  0.  2.  2.  3.]\n"
          ]
        }
      ]
    },
    {
      "cell_type": "markdown",
      "source": [],
      "metadata": {
        "id": "870zWNbXrDJD"
      }
    },
    {
      "cell_type": "markdown",
      "source": [
        "# **Q3: Based on Searching and Sorting**"
      ],
      "metadata": {
        "id": "ONf0gQ_JrEGL"
      }
    },
    {
      "cell_type": "markdown",
      "source": [
        "a) For the array: array = np.array([10, 52, 62, 16, 16, 54, 453]), find\n",
        "\n",
        "i. Sorted array\n",
        "\n",
        "ii. Indices of sorted array\n",
        "\n",
        " iii. 4 smallest elements\n",
        "\n",
        " iv. 5 largest elements\n"
      ],
      "metadata": {
        "id": "c63vumr0rMnu"
      }
    },
    {
      "cell_type": "code",
      "source": [
        "#i\n",
        "array = np.array([10, 52, 62, 16, 16, 54, 453])\n",
        "print(np.sort(array))"
      ],
      "metadata": {
        "colab": {
          "base_uri": "https://localhost:8080/"
        },
        "id": "D_DBuLijq6i-",
        "outputId": "5a87b5d8-d80c-4b70-b53d-083c95fbd5f7"
      },
      "execution_count": 39,
      "outputs": [
        {
          "output_type": "stream",
          "name": "stdout",
          "text": [
            "[ 10  16  16  52  54  62 453]\n"
          ]
        }
      ]
    },
    {
      "cell_type": "code",
      "source": [
        "#ii\n",
        "print('The indices of sorted arry with respect to its original arry is:')\n",
        "print(np.argsort(array))"
      ],
      "metadata": {
        "colab": {
          "base_uri": "https://localhost:8080/"
        },
        "id": "tKTIoeg7rU2U",
        "outputId": "c7ebe464-f417-4f15-a04c-17ada087015b"
      },
      "execution_count": 45,
      "outputs": [
        {
          "output_type": "stream",
          "name": "stdout",
          "text": [
            "The indices of sorted arry with respect to its original arry is:\n",
            "[0 3 4 1 5 2 6]\n"
          ]
        }
      ]
    },
    {
      "cell_type": "code",
      "source": [
        "#iii\n",
        "print('Four smallest number are:')\n",
        "print(np.sort(array)[:4])"
      ],
      "metadata": {
        "colab": {
          "base_uri": "https://localhost:8080/"
        },
        "id": "kPV7_VhNrpBg",
        "outputId": "c58397c1-e4ea-4e70-e001-35f30f32103b"
      },
      "execution_count": 42,
      "outputs": [
        {
          "output_type": "stream",
          "name": "stdout",
          "text": [
            "Four smallest number are:\n",
            "[10 16 16 52]\n"
          ]
        }
      ]
    },
    {
      "cell_type": "code",
      "source": [
        "#iv\n",
        "print('Five largest number in ascending order  are:')\n",
        "print(np.sort(array)[-5:])"
      ],
      "metadata": {
        "colab": {
          "base_uri": "https://localhost:8080/"
        },
        "id": "Xa6c7Bu0taR_",
        "outputId": "b0915850-23eb-4fd3-e0c3-59da86a731e3"
      },
      "execution_count": 47,
      "outputs": [
        {
          "output_type": "stream",
          "name": "stdout",
          "text": [
            "Five largest number in ascending order  are:\n",
            "[ 16  52  54  62 453]\n"
          ]
        }
      ]
    },
    {
      "cell_type": "markdown",
      "source": [],
      "metadata": {
        "id": "9xE-Zscft6QU"
      }
    },
    {
      "cell_type": "code",
      "source": [],
      "metadata": {
        "id": "IULgqyWGt00l"
      },
      "execution_count": null,
      "outputs": []
    }
  ]
}